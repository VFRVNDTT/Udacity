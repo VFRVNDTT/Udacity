{
 "cells": [
  {
   "cell_type": "markdown",
   "metadata": {},
   "source": [
    "# Smart Queue Monitoring System - Retail Scenario\n",
    "\n",
    "## Overview\n",
    "Now that you have your Python script and job submission script, you're ready to request an **IEI Tank-870** edge node and run inference on the different hardware types (CPU, GPU, VPU, FPGA).\n",
    "\n",
    "After the inference is completed, the output video and stats files need to be retrieved and stored in the workspace, which can then be viewed within the Jupyter Notebook.\n",
    "\n",
    "## Objectives\n",
    "* Submit inference jobs to Intel's DevCloud using the `qsub` command.\n",
    "* Retrieve and review the results.\n",
    "* After testing, go back to the proposal doc and update your original proposed hardware device."
   ]
  },
  {
   "cell_type": "markdown",
   "metadata": {},
   "source": [
    "## Step 0: Set Up\n",
    "\n",
    "#### IMPORTANT: Set up paths so we can run Dev Cloud utilities\n",
    "You *must* run this every time you enter a Workspace session.\n",
    "(Tip: select the cell and use **Shift+Enter** to run the cell.)"
   ]
  },
  {
   "cell_type": "code",
   "execution_count": 1,
   "metadata": {},
   "outputs": [
    {
     "name": "stdout",
     "output_type": "stream",
     "text": [
      "env: PATH=/opt/conda/bin:/opt/spark-2.4.3-bin-hadoop2.7/bin:/opt/conda/bin:/usr/local/sbin:/usr/local/bin:/usr/sbin:/usr/bin:/sbin:/bin:/opt/intel_devcloud_support\n"
     ]
    }
   ],
   "source": [
    "%env PATH=/opt/conda/bin:/opt/spark-2.4.3-bin-hadoop2.7/bin:/opt/conda/bin:/usr/local/sbin:/usr/local/bin:/usr/sbin:/usr/bin:/sbin:/bin:/opt/intel_devcloud_support\n",
    "import os\n",
    "import sys\n",
    "sys.path.insert(0, os.path.abspath('/opt/intel_devcloud_support'))\n",
    "sys.path.insert(0, os.path.abspath('/opt/intel'))"
   ]
  },
  {
   "cell_type": "markdown",
   "metadata": {},
   "source": [
    "### Step 0.1:  (Optional-step): Original Video\n",
    "\n",
    "If you are curious to see the input video, run the following cell to view the original video stream we'll be using for inference."
   ]
  },
  {
   "cell_type": "code",
   "execution_count": 2,
   "metadata": {},
   "outputs": [
    {
     "data": {
      "text/html": [
       "<h5>Retail</h5>\n",
       "        <video alt=\"\" controls autoplay muted height=\"480\"><source src=\"original_videos/Retail.mp4\" type=\"video/mp4\" /></video>\n",
       "        "
      ],
      "text/plain": [
       "<IPython.core.display.HTML object>"
      ]
     },
     "execution_count": 2,
     "metadata": {},
     "output_type": "execute_result"
    }
   ],
   "source": [
    "import videoHtml\n",
    "videoHtml.videoHTML('Retail', ['original_videos/Retail.mp4'])"
   ]
  },
  {
   "cell_type": "markdown",
   "metadata": {},
   "source": [
    "## Step 1 : Inference on a Video\n",
    "\n",
    "In the next few cells, You'll submit your job using the `qsub` command and retrieving the results for each job. Each of the cells below should submit a job to different edge compute nodes.\n",
    "\n",
    "The output of the cell is the `JobID` of your job, which you can use to track progress of a job with `liveQStat`.\n",
    "\n",
    "You will need to submit a job for each of the following hardware types:\n",
    "* **CPU**\n",
    "* **GPU**\n",
    "* **VPU**\n",
    "* **FPGA**\n",
    "\n",
    "**Note** You will have to submit each job one at a time and retrieve their results. \n",
    "\n",
    "After submission, they will go into a queue and run as soon as the requested compute resources become available. \n",
    "(Tip: **shift+enter** will run the cell and automatically move you to the next cell.)\n",
    "\n",
    "If your job successfully runs and completes, once you retrieve your results, it should output a video and a stats text file in the `results/retail/<DEVICE>` directory.\n",
    "\n",
    "For example, your **CPU** job should output its files in this directory:\n",
    "> **results/retail/cpu**\n",
    "\n",
    "**Note**: To get the queue labels for the different hardware devices, you can go to [this link](https://devcloud.intel.com/edge/get_started/devcloud/).\n",
    "\n",
    "The following arguments should be passed to the job submission script after the `-F` flag:\n",
    "* Model path - `/data/models/intel/person-detection-retail-0013/<MODEL PRECISION>/`. You will need to adjust this path based on the model precision being using on the hardware.\n",
    "* Device - `CPU`, `GPU`, `MYRIAD`, `HETERO:FPGA,CPU`\n",
    "* Manufacturing video path - `/data/resources/retail.mp4`\n",
    "* Manufacturing queue_param file path - `/data/queue_param/retail.npy`\n",
    "* Output path - `/output/results/retail/<DEVICE>` This should be adjusted based on the device used in the job.\n",
    "* Max num of people - This is the max number of people in queue before the system would redirect them to another queue."
   ]
  },
  {
   "cell_type": "code",
   "execution_count": 3,
   "metadata": {},
   "outputs": [],
   "source": [
    "def f_flag(precision, device, output):\n",
    "    model_path = os.path.join('/data/models/intel/person-detection-retail-0013', precision, 'person-detection-retail-0013')\n",
    "    device_name = device\n",
    "    video_path = '/data/resources/retail.mp4'\n",
    "    queue_path = '/data/queue_param/retail.npy'\n",
    "    output_path = os.path.join('/output/results/retail', output)\n",
    "    max_num = 5\n",
    "    return '{} {} {} {} {} {}'.format(model_path, device_name, video_path, queue_path, output_path, max_num)"
   ]
  },
  {
   "cell_type": "markdown",
   "metadata": {},
   "source": [
    "## Step 1.1: Submit to an Edge Compute Node with an Intel CPU\n",
    "In the cell below, write a script to submit a job to an <a \n",
    "    href=\"https://software.intel.com/en-us/iot/hardware/iei-tank-dev-kit-core\">IEI \n",
    "    Tank* 870-Q170</a> edge node with an <a \n",
    "    href=\"https://ark.intel.com/products/88186/Intel-Core-i5-6500TE-Processor-6M-Cache-up-to-3-30-GHz-\">Intel® Core™ i5-6500TE processor</a>. The inference workload should run on the CPU."
   ]
  },
  {
   "cell_type": "code",
   "execution_count": 4,
   "metadata": {},
   "outputs": [
    {
     "data": {
      "text/plain": [
       "'/data/models/intel/person-detection-retail-0013/FP32/person-detection-retail-0013 CPU /data/resources/retail.mp4 /data/queue_param/retail.npy /output/results/retail/cpu 5'"
      ]
     },
     "execution_count": 4,
     "metadata": {},
     "output_type": "execute_result"
    }
   ],
   "source": [
    "cpu = f_flag('FP32', 'CPU', 'cpu')\n",
    "cpu"
   ]
  },
  {
   "cell_type": "code",
   "execution_count": 5,
   "metadata": {},
   "outputs": [
    {
     "name": "stdout",
     "output_type": "stream",
     "text": [
      "L4AMOEefRPwdZDknfTVgUoACngTjnBiB\n"
     ]
    }
   ],
   "source": [
    "#Submit job to the queue\n",
    "cpu_job_id = !qsub queue_job.sh -d . -l nodes=1:tank-870:i5-6500te -F '{cpu}'\n",
    "\n",
    "print(cpu_job_id[0])"
   ]
  },
  {
   "cell_type": "markdown",
   "metadata": {},
   "source": [
    "#### Check Job Status\n",
    "\n",
    "To check on the job that was submitted, use `liveQStat` to check the status of the job.\n",
    "\n",
    "Column `S` shows the state of your running jobs.\n",
    "\n",
    "For example:\n",
    "- If `JOB ID`is in Q state, it is in the queue waiting for available resources.\n",
    "- If `JOB ID` is in R state, it is running."
   ]
  },
  {
   "cell_type": "code",
   "execution_count": 6,
   "metadata": {},
   "outputs": [],
   "source": [
    "import liveQStat\n",
    "liveQStat.liveQStat()"
   ]
  },
  {
   "cell_type": "markdown",
   "metadata": {},
   "source": [
    "#### Get Results\n",
    "\n",
    "Run the next cell to retrieve your job's results."
   ]
  },
  {
   "cell_type": "code",
   "execution_count": 7,
   "metadata": {},
   "outputs": [
    {
     "name": "stdout",
     "output_type": "stream",
     "text": [
      "getResults() is blocking until results of the job (id:L4AMOEefRPwdZDknfTVgUoACngTjnBiB) are ready.\n",
      "Please wait............Success!\n",
      "output.tgz was downloaded in the same folder as this notebook.\n"
     ]
    }
   ],
   "source": [
    "import get_results\n",
    "get_results.getResults(cpu_job_id[0], filename='output.tgz', blocking=True)"
   ]
  },
  {
   "cell_type": "markdown",
   "metadata": {},
   "source": [
    "#### Unpack your output files and view stdout.log"
   ]
  },
  {
   "cell_type": "code",
   "execution_count": 8,
   "metadata": {},
   "outputs": [],
   "source": [
    "!tar zxf output.tgz"
   ]
  },
  {
   "cell_type": "code",
   "execution_count": 9,
   "metadata": {},
   "outputs": [
    {
     "name": "stdout",
     "output_type": "stream",
     "text": [
      "Time taken to load model = 1.6435134410858154 seconds\r\n",
      "Total People in frame = 4\r\n",
      "Number of people in queue = {1: 1, 2: 1}\r\n",
      "Total People in frame = 4\r\n",
      "Number of people in queue = {1: 1, 2: 1}\r\n",
      "Total People in frame = 5\r\n",
      "Number of people in queue = {1: 1, 2: 1}\r\n",
      "Total People in frame = 4\r\n",
      "Number of people in queue = {1: 1, 2: 1}\r\n",
      "Total People in frame = 4\r\n",
      "Number of people in queue = {1: 1, 2: 1}\r\n",
      "Total People in frame = 4\r\n",
      "Number of people in queue = {1: 1, 2: 1}\r\n",
      "Total People in frame = 4\r\n",
      "Number of people in queue = {1: 1, 2: 1}\r\n",
      "Total People in frame = 4\r\n",
      "Number of people in queue = {1: 1, 2: 1}\r\n",
      "Total People in frame = 4\r\n",
      "Number of people in queue = {1: 1, 2: 1}\r\n",
      "Total People in frame = 4\r\n",
      "Number of people in queue = {1: 1, 2: 1}\r\n",
      "Total People in frame = 4\r\n",
      "Number of people in queue = {1: 1, 2: 1}\r\n",
      "Total People in frame = 4\r\n",
      "Number of people in queue = {1: 1, 2: 1}\r\n",
      "Total People in frame = 4\r\n",
      "Number of people in queue = {1: 1, 2: 1}\r\n",
      "Total People in frame = 4\r\n",
      "Number of people in queue = {1: 1, 2: 1}\r\n",
      "Total People in frame = 4\r\n",
      "Number of people in queue = {1: 1, 2: 1}\r\n",
      "Total People in frame = 3\r\n",
      "Number of people in queue = {1: 1, 2: 1}\r\n",
      "Total People in frame = 3\r\n",
      "Number of people in queue = {1: 1, 2: 1}\r\n",
      "Total People in frame = 3\r\n",
      "Number of people in queue = {1: 1, 2: 1}\r\n",
      "Total People in frame = 3\r\n",
      "Number of people in queue = {1: 1, 2: 1}\r\n",
      "Total People in frame = 4\r\n",
      "Number of people in queue = {1: 1, 2: 1}\r\n",
      "Total People in frame = 4\r\n",
      "Number of people in queue = {1: 1, 2: 1}\r\n",
      "Total People in frame = 4\r\n",
      "Number of people in queue = {1: 2, 2: 1}\r\n",
      "Total People in frame = 5\r\n",
      "Number of people in queue = {1: 2, 2: 1}\r\n",
      "Total People in frame = 5\r\n",
      "Number of people in queue = {1: 2, 2: 1}\r\n",
      "Total People in frame = 5\r\n",
      "Number of people in queue = {1: 2, 2: 1}\r\n",
      "Total People in frame = 4\r\n",
      "Number of people in queue = {1: 1, 2: 1}\r\n",
      "Total People in frame = 4\r\n",
      "Number of people in queue = {1: 1, 2: 1}\r\n",
      "Total People in frame = 5\r\n",
      "Number of people in queue = {1: 2, 2: 1}\r\n",
      "Total People in frame = 5\r\n",
      "Number of people in queue = {1: 2, 2: 1}\r\n",
      "Total People in frame = 5\r\n",
      "Number of people in queue = {1: 2, 2: 1}\r\n",
      "Total People in frame = 5\r\n",
      "Number of people in queue = {1: 2, 2: 1}\r\n",
      "Total People in frame = 5\r\n",
      "Number of people in queue = {1: 2, 2: 1}\r\n",
      "Total People in frame = 5\r\n",
      "Number of people in queue = {1: 2, 2: 1}\r\n",
      "Total People in frame = 6\r\n",
      "Number of people in queue = {1: 2, 2: 1}\r\n",
      "Total People in frame = 6\r\n",
      "Number of people in queue = {1: 2, 2: 1}\r\n",
      "Total People in frame = 6\r\n",
      "Number of people in queue = {1: 2, 2: 1}\r\n",
      "Total People in frame = 6\r\n",
      "Number of people in queue = {1: 2, 2: 1}\r\n",
      "Total People in frame = 6\r\n",
      "Number of people in queue = {1: 2, 2: 1}\r\n",
      "Total People in frame = 6\r\n",
      "Number of people in queue = {1: 2, 2: 1}\r\n",
      "Total People in frame = 6\r\n",
      "Number of people in queue = {1: 2, 2: 1}\r\n",
      "Total People in frame = 6\r\n",
      "Number of people in queue = {1: 2, 2: 1}\r\n",
      "Total People in frame = 6\r\n",
      "Number of people in queue = {1: 2, 2: 1}\r\n",
      "Total People in frame = 6\r\n",
      "Number of people in queue = {1: 2, 2: 1}\r\n",
      "Total People in frame = 6\r\n",
      "Number of people in queue = {1: 2, 2: 1}\r\n",
      "Total People in frame = 6\r\n",
      "Number of people in queue = {1: 2, 2: 1}\r\n",
      "Total People in frame = 6\r\n",
      "Number of people in queue = {1: 2, 2: 1}\r\n",
      "Total People in frame = 5\r\n",
      "Number of people in queue = {1: 2, 2: 1}\r\n",
      "Total People in frame = 6\r\n",
      "Number of people in queue = {1: 2, 2: 1}\r\n",
      "Total People in frame = 6\r\n",
      "Number of people in queue = {1: 2, 2: 1}\r\n",
      "Total People in frame = 6\r\n",
      "Number of people in queue = {1: 2, 2: 1}\r\n",
      "Total People in frame = 5\r\n",
      "Number of people in queue = {1: 2, 2: 1}\r\n",
      "Total People in frame = 4\r\n",
      "Number of people in queue = {1: 2, 2: 1}\r\n",
      "Total People in frame = 5\r\n",
      "Number of people in queue = {1: 2, 2: 1}\r\n",
      "Total People in frame = 4\r\n",
      "Number of people in queue = {1: 1, 2: 1}\r\n",
      "Total People in frame = 4\r\n",
      "Number of people in queue = {1: 1, 2: 1}\r\n",
      "Total People in frame = 4\r\n",
      "Number of people in queue = {1: 2, 2: 1}\r\n",
      "Total People in frame = 4\r\n",
      "Number of people in queue = {1: 2, 2: 1}\r\n",
      "Total People in frame = 4\r\n",
      "Number of people in queue = {1: 2, 2: 1}\r\n",
      "Total People in frame = 4\r\n",
      "Number of people in queue = {1: 2, 2: 1}\r\n",
      "Total People in frame = 4\r\n",
      "Number of people in queue = {1: 2, 2: 1}\r\n",
      "Total People in frame = 4\r\n",
      "Number of people in queue = {1: 2, 2: 1}\r\n",
      "Total People in frame = 2\r\n",
      "Number of people in queue = {1: 1, 2: 1}\r\n",
      "Total People in frame = 3\r\n",
      "Number of people in queue = {1: 1, 2: 1}\r\n",
      "Total People in frame = 4\r\n",
      "Number of people in queue = {1: 2, 2: 1}\r\n",
      "Total People in frame = 4\r\n",
      "Number of people in queue = {1: 2, 2: 1}\r\n",
      "Total People in frame = 3\r\n",
      "Number of people in queue = {1: 2, 2: 1}\r\n",
      "Total People in frame = 4\r\n",
      "Number of people in queue = {1: 2, 2: 1}\r\n",
      "Total People in frame = 3\r\n",
      "Number of people in queue = {1: 2, 2: 1}\r\n",
      "Total People in frame = 3\r\n",
      "Number of people in queue = {1: 2, 2: 1}\r\n",
      "Total People in frame = 3\r\n",
      "Number of people in queue = {1: 2, 2: 1}\r\n",
      "Total People in frame = 3\r\n",
      "Number of people in queue = {1: 2, 2: 1}\r\n",
      "Total People in frame = 4\r\n",
      "Number of people in queue = {1: 2, 2: 1}\r\n",
      "Total People in frame = 4\r\n",
      "Number of people in queue = {1: 2, 2: 1}\r\n",
      "Total People in frame = 4\r\n",
      "Number of people in queue = {1: 2, 2: 1}\r\n",
      "Total People in frame = 4\r\n",
      "Number of people in queue = {1: 2, 2: 1}\r\n",
      "Total People in frame = 3\r\n",
      "Number of people in queue = {1: 2, 2: 1}\r\n",
      "Total People in frame = 3\r\n",
      "Number of people in queue = {1: 2, 2: 1}\r\n",
      "Total People in frame = 3\r\n",
      "Number of people in queue = {1: 2, 2: 1}\r\n",
      "Total People in frame = 3\r\n",
      "Number of people in queue = {1: 1, 2: 1}\r\n",
      "Total People in frame = 3\r\n",
      "Number of people in queue = {1: 1, 2: 1}\r\n",
      "Total People in frame = 4\r\n",
      "Number of people in queue = {1: 1, 2: 1}\r\n",
      "Total People in frame = 4\r\n",
      "Number of people in queue = {1: 1, 2: 1}\r\n",
      "Total People in frame = 3\r\n",
      "Number of people in queue = {1: 1, 2: 1}\r\n",
      "Total People in frame = 4\r\n",
      "Number of people in queue = {1: 1, 2: 1}\r\n",
      "Total People in frame = 4\r\n",
      "Number of people in queue = {1: 1, 2: 1}\r\n",
      "Total People in frame = 4\r\n",
      "Number of people in queue = {1: 1, 2: 1}\r\n",
      "Total People in frame = 4\r\n",
      "Number of people in queue = {1: 1, 2: 1}\r\n",
      "Total People in frame = 4\r\n",
      "Number of people in queue = {1: 1, 2: 1}\r\n",
      "Total People in frame = 4\r\n",
      "Number of people in queue = {1: 1, 2: 1}\r\n",
      "Total People in frame = 3\r\n",
      "Number of people in queue = {1: 1, 2: 0}\r\n",
      "Total People in frame = 3\r\n",
      "Number of people in queue = {1: 1, 2: 0}\r\n",
      "Total People in frame = 2\r\n",
      "Number of people in queue = {1: 1, 2: 0}\r\n",
      "Total People in frame = 2\r\n",
      "Number of people in queue = {1: 1, 2: 0}\r\n",
      "Total People in frame = 3\r\n",
      "Number of people in queue = {1: 1, 2: 1}\r\n",
      "Total People in frame = 2\r\n",
      "Number of people in queue = {1: 1, 2: 0}\r\n",
      "Total People in frame = 2\r\n",
      "Number of people in queue = {1: 1, 2: 0}\r\n",
      "Total People in frame = 2\r\n",
      "Number of people in queue = {1: 1, 2: 0}\r\n",
      "Total People in frame = 2\r\n",
      "Number of people in queue = {1: 1, 2: 0}\r\n",
      "Total People in frame = 2\r\n",
      "Number of people in queue = {1: 1, 2: 0}\r\n",
      "Total People in frame = 2\r\n",
      "Number of people in queue = {1: 1, 2: 0}\r\n",
      "Total People in frame = 2\r\n",
      "Number of people in queue = {1: 1, 2: 0}\r\n",
      "Total People in frame = 2\r\n",
      "Number of people in queue = {1: 1, 2: 0}\r\n",
      "Total People in frame = 2\r\n",
      "Number of people in queue = {1: 1, 2: 0}\r\n",
      "Total People in frame = 3\r\n",
      "Number of people in queue = {1: 1, 2: 0}\r\n",
      "Total People in frame = 3\r\n",
      "Number of people in queue = {1: 1, 2: 0}\r\n",
      "Total People in frame = 3\r\n",
      "Number of people in queue = {1: 1, 2: 0}\r\n",
      "Total People in frame = 2\r\n",
      "Number of people in queue = {1: 1, 2: 0}\r\n",
      "Total People in frame = 2\r\n",
      "Number of people in queue = {1: 1, 2: 0}\r\n",
      "Total People in frame = 2\r\n",
      "Number of people in queue = {1: 1, 2: 0}\r\n",
      "Total People in frame = 3\r\n",
      "Number of people in queue = {1: 1, 2: 0}\r\n",
      "Total People in frame = 3\r\n",
      "Number of people in queue = {1: 1, 2: 1}\r\n",
      "Total People in frame = 4\r\n",
      "Number of people in queue = {1: 1, 2: 1}\r\n",
      "Total People in frame = 3\r\n",
      "Number of people in queue = {1: 1, 2: 1}\r\n",
      "Total People in frame = 3\r\n",
      "Number of people in queue = {1: 1, 2: 1}\r\n",
      "Total People in frame = 3\r\n",
      "Number of people in queue = {1: 1, 2: 1}\r\n",
      "Total People in frame = 3\r\n",
      "Number of people in queue = {1: 1, 2: 1}\r\n",
      "Total People in frame = 3\r\n",
      "Number of people in queue = {1: 1, 2: 1}\r\n",
      "Total People in frame = 3\r\n",
      "Number of people in queue = {1: 1, 2: 1}\r\n",
      "Total People in frame = 3\r\n",
      "Number of people in queue = {1: 1, 2: 1}\r\n",
      "Total People in frame = 3\r\n",
      "Number of people in queue = {1: 1, 2: 1}\r\n",
      "Total People in frame = 3\r\n",
      "Number of people in queue = {1: 1, 2: 1}\r\n",
      "Total People in frame = 3\r\n",
      "Number of people in queue = {1: 1, 2: 1}\r\n",
      "Total People in frame = 3\r\n",
      "Number of people in queue = {1: 1, 2: 1}\r\n",
      "Total People in frame = 3\r\n",
      "Number of people in queue = {1: 1, 2: 1}\r\n",
      "Total People in frame = 3\r\n",
      "Number of people in queue = {1: 1, 2: 1}\r\n",
      "Total People in frame = 3\r\n",
      "Number of people in queue = {1: 1, 2: 1}\r\n",
      "Total People in frame = 3\r\n",
      "Number of people in queue = {1: 1, 2: 1}\r\n",
      "Total People in frame = 3\r\n",
      "Number of people in queue = {1: 1, 2: 1}\r\n",
      "Total People in frame = 3\r\n",
      "Number of people in queue = {1: 1, 2: 1}\r\n",
      "Total People in frame = 3\r\n",
      "Number of people in queue = {1: 1, 2: 1}\r\n",
      "Total People in frame = 3\r\n",
      "Number of people in queue = {1: 1, 2: 1}\r\n",
      "Total People in frame = 3\r\n",
      "Number of people in queue = {1: 1, 2: 1}\r\n",
      "Total People in frame = 3\r\n",
      "Number of people in queue = {1: 1, 2: 1}\r\n",
      "Total People in frame = 3\r\n",
      "Number of people in queue = {1: 1, 2: 1}\r\n",
      "Total People in frame = 3\r\n",
      "Number of people in queue = {1: 1, 2: 1}\r\n",
      "Total People in frame = 3\r\n",
      "Number of people in queue = {1: 1, 2: 1}\r\n",
      "Total People in frame = 3\r\n",
      "Number of people in queue = {1: 1, 2: 1}\r\n",
      "Total People in frame = 3\r\n",
      "Number of people in queue = {1: 1, 2: 1}\r\n",
      "Total People in frame = 4\r\n",
      "Number of people in queue = {1: 1, 2: 1}\r\n",
      "Total People in frame = 3\r\n",
      "Number of people in queue = {1: 1, 2: 1}\r\n",
      "Total People in frame = 4\r\n",
      "Number of people in queue = {1: 1, 2: 1}\r\n",
      "Total People in frame = 4\r\n",
      "Number of people in queue = {1: 1, 2: 1}\r\n",
      "Total People in frame = 4\r\n",
      "Number of people in queue = {1: 1, 2: 1}\r\n",
      "Total People in frame = 4\r\n",
      "Number of people in queue = {1: 1, 2: 1}\r\n",
      "Total People in frame = 4\r\n",
      "Number of people in queue = {1: 1, 2: 1}\r\n",
      "Total People in frame = 3\r\n",
      "Number of people in queue = {1: 1, 2: 1}\r\n",
      "Total People in frame = 3\r\n",
      "Number of people in queue = {1: 1, 2: 1}\r\n",
      "Total People in frame = 3\r\n",
      "Number of people in queue = {1: 1, 2: 1}\r\n",
      "Total People in frame = 3\r\n",
      "Number of people in queue = {1: 1, 2: 1}\r\n",
      "Total People in frame = 3\r\n",
      "Number of people in queue = {1: 1, 2: 1}\r\n",
      "Total People in frame = 4\r\n",
      "Number of people in queue = {1: 1, 2: 1}\r\n",
      "Total People in frame = 4\r\n",
      "Number of people in queue = {1: 1, 2: 1}\r\n",
      "Total People in frame = 3\r\n",
      "Number of people in queue = {1: 1, 2: 1}\r\n",
      "Total People in frame = 4\r\n",
      "Number of people in queue = {1: 1, 2: 1}\r\n",
      "Total People in frame = 4\r\n",
      "Number of people in queue = {1: 1, 2: 1}\r\n",
      "Total People in frame = 4\r\n",
      "Number of people in queue = {1: 1, 2: 1}\r\n",
      "Total People in frame = 4\r\n",
      "Number of people in queue = {1: 1, 2: 1}\r\n",
      "Total People in frame = 3\r\n",
      "Number of people in queue = {1: 1, 2: 1}\r\n",
      "Total People in frame = 2\r\n",
      "Number of people in queue = {1: 1, 2: 1}\r\n",
      "Total People in frame = 3\r\n",
      "Number of people in queue = {1: 1, 2: 1}\r\n",
      "Total People in frame = 2\r\n",
      "Number of people in queue = {1: 1, 2: 0}\r\n",
      "Total People in frame = 2\r\n",
      "Number of people in queue = {1: 1, 2: 0}\r\n",
      "Total People in frame = 2\r\n",
      "Number of people in queue = {1: 1, 2: 0}\r\n",
      "Total People in frame = 2\r\n",
      "Number of people in queue = {1: 1, 2: 0}\r\n",
      "Total People in frame = 2\r\n",
      "Number of people in queue = {1: 1, 2: 0}\r\n",
      "Total People in frame = 0\r\n",
      "Number of people in queue = {1: 0, 2: 0}\r\n",
      "Total time taken to run inference is = 4.8 seconds FPS = 34.583333333333336\r\n",
      "results/\r\n",
      "results/retail/\r\n",
      "results/retail/cpu/\r\n",
      "results/retail/cpu/stats.txt\r\n",
      "results/retail/cpu/output_video.mp4\r\n",
      "stderr.log\r\n"
     ]
    }
   ],
   "source": [
    "!cat stdout.log"
   ]
  },
  {
   "cell_type": "markdown",
   "metadata": {},
   "source": [
    "#### View stderr.log\n",
    "This can be used for debugging"
   ]
  },
  {
   "cell_type": "code",
   "execution_count": 10,
   "metadata": {},
   "outputs": [
    {
     "name": "stdout",
     "output_type": "stream",
     "text": [
      "person_detect.py:48: DeprecationWarning: Reading network using constructor is deprecated. Please, use IECore.read_network() method instead\r\n",
      "  self.model=IENetwork(self.model_structure, self.model_weights)\r\n"
     ]
    }
   ],
   "source": [
    "!cat stderr.log"
   ]
  },
  {
   "cell_type": "markdown",
   "metadata": {},
   "source": [
    "#### View Output Video\n",
    "Run the cell below to view the output video. If inference was successfully run, you should see a video with bounding boxes drawn around each person detected."
   ]
  },
  {
   "cell_type": "code",
   "execution_count": 11,
   "metadata": {},
   "outputs": [
    {
     "data": {
      "text/html": [
       "<h5>Retail CPU</h5>\n",
       "        <video alt=\"\" controls autoplay muted height=\"480\"><source src=\"results/retail/cpu/output_video.mp4\" type=\"video/mp4\" /></video>\n",
       "        "
      ],
      "text/plain": [
       "<IPython.core.display.HTML object>"
      ]
     },
     "execution_count": 11,
     "metadata": {},
     "output_type": "execute_result"
    }
   ],
   "source": [
    "import videoHtml\n",
    "\n",
    "videoHtml.videoHTML('Retail CPU', ['results/retail/cpu/output_video.mp4'])"
   ]
  },
  {
   "cell_type": "markdown",
   "metadata": {},
   "source": [
    "## Step 1.2: Submit to an Edge Compute Node with a CPU and IGPU\n",
    "In the cell below, write a script to submit a job to an <a \n",
    "    href=\"https://software.intel.com/en-us/iot/hardware/iei-tank-dev-kit-core\">IEI \n",
    "    Tank* 870-Q170</a> edge node with an <a href=\"https://ark.intel.com/products/88186/Intel-Core-i5-6500TE-Processor-6M-Cache-up-to-3-30-GHz-\">Intel® Core i5-6500TE</a>. The inference workload should run on the **Intel® HD Graphics 530** integrated GPU."
   ]
  },
  {
   "cell_type": "code",
   "execution_count": 12,
   "metadata": {},
   "outputs": [
    {
     "data": {
      "text/plain": [
       "'/data/models/intel/person-detection-retail-0013/FP16/person-detection-retail-0013 GPU /data/resources/retail.mp4 /data/queue_param/retail.npy /output/results/retail/gpu 5'"
      ]
     },
     "execution_count": 12,
     "metadata": {},
     "output_type": "execute_result"
    }
   ],
   "source": [
    "gpu = f_flag('FP16', 'GPU', 'gpu')\n",
    "gpu"
   ]
  },
  {
   "cell_type": "code",
   "execution_count": 13,
   "metadata": {},
   "outputs": [
    {
     "name": "stdout",
     "output_type": "stream",
     "text": [
      "iSrExgFeZ1W8Ta9aE8sN68L26KsVsl3q\n"
     ]
    }
   ],
   "source": [
    "#Submit job to the queue\n",
    "gpu_job_id = !qsub queue_job.sh -d . -l nodes=1:tank-870:i5-6500te:intel-hd-530 -F '{gpu}'\n",
    "\n",
    "print(gpu_job_id[0])"
   ]
  },
  {
   "cell_type": "markdown",
   "metadata": {},
   "source": [
    "### Check Job Status\n",
    "\n",
    "To check on the job that was submitted, use `liveQStat` to check the status of the job.\n",
    "\n",
    "Column `S` shows the state of your running jobs.\n",
    "\n",
    "For example:\n",
    "- If `JOB ID`is in Q state, it is in the queue waiting for available resources.\n",
    "- If `JOB ID` is in R state, it is running."
   ]
  },
  {
   "cell_type": "code",
   "execution_count": 14,
   "metadata": {},
   "outputs": [],
   "source": [
    "import liveQStat\n",
    "liveQStat.liveQStat()"
   ]
  },
  {
   "cell_type": "markdown",
   "metadata": {},
   "source": [
    "#### Get Results\n",
    "\n",
    "Run the next cell to retrieve your job's results."
   ]
  },
  {
   "cell_type": "code",
   "execution_count": 15,
   "metadata": {},
   "outputs": [
    {
     "name": "stdout",
     "output_type": "stream",
     "text": [
      "getResults() is blocking until results of the job (id:iSrExgFeZ1W8Ta9aE8sN68L26KsVsl3q) are ready.\n",
      "Please wait........................................................Success!\n",
      "output.tgz was downloaded in the same folder as this notebook.\n"
     ]
    }
   ],
   "source": [
    "import get_results\n",
    "get_results.getResults(gpu_job_id[0], filename='output.tgz', blocking=True)"
   ]
  },
  {
   "cell_type": "markdown",
   "metadata": {},
   "source": [
    "#### Unpack your output files and view stdout.log"
   ]
  },
  {
   "cell_type": "code",
   "execution_count": 16,
   "metadata": {},
   "outputs": [],
   "source": [
    "!tar zxf output.tgz"
   ]
  },
  {
   "cell_type": "code",
   "execution_count": 17,
   "metadata": {},
   "outputs": [
    {
     "name": "stdout",
     "output_type": "stream",
     "text": [
      "Time taken to load model = 55.7408607006073 seconds\r\n",
      "Total People in frame = 4\r\n",
      "Number of people in queue = {1: 1, 2: 1}\r\n",
      "Total People in frame = 4\r\n",
      "Number of people in queue = {1: 1, 2: 1}\r\n",
      "Total People in frame = 5\r\n",
      "Number of people in queue = {1: 1, 2: 1}\r\n",
      "Total People in frame = 4\r\n",
      "Number of people in queue = {1: 1, 2: 1}\r\n",
      "Total People in frame = 4\r\n",
      "Number of people in queue = {1: 1, 2: 1}\r\n",
      "Total People in frame = 4\r\n",
      "Number of people in queue = {1: 1, 2: 1}\r\n",
      "Total People in frame = 4\r\n",
      "Number of people in queue = {1: 1, 2: 1}\r\n",
      "Total People in frame = 4\r\n",
      "Number of people in queue = {1: 1, 2: 1}\r\n",
      "Total People in frame = 4\r\n",
      "Number of people in queue = {1: 1, 2: 1}\r\n",
      "Total People in frame = 4\r\n",
      "Number of people in queue = {1: 1, 2: 1}\r\n",
      "Total People in frame = 4\r\n",
      "Number of people in queue = {1: 1, 2: 1}\r\n",
      "Total People in frame = 4\r\n",
      "Number of people in queue = {1: 1, 2: 1}\r\n",
      "Total People in frame = 4\r\n",
      "Number of people in queue = {1: 1, 2: 1}\r\n",
      "Total People in frame = 3\r\n",
      "Number of people in queue = {1: 1, 2: 1}\r\n",
      "Total People in frame = 3\r\n",
      "Number of people in queue = {1: 1, 2: 1}\r\n",
      "Total People in frame = 3\r\n",
      "Number of people in queue = {1: 1, 2: 1}\r\n",
      "Total People in frame = 3\r\n",
      "Number of people in queue = {1: 1, 2: 1}\r\n",
      "Total People in frame = 3\r\n",
      "Number of people in queue = {1: 1, 2: 1}\r\n",
      "Total People in frame = 3\r\n",
      "Number of people in queue = {1: 1, 2: 1}\r\n",
      "Total People in frame = 4\r\n",
      "Number of people in queue = {1: 1, 2: 1}\r\n",
      "Total People in frame = 4\r\n",
      "Number of people in queue = {1: 1, 2: 1}\r\n",
      "Total People in frame = 4\r\n",
      "Number of people in queue = {1: 2, 2: 1}\r\n",
      "Total People in frame = 5\r\n",
      "Number of people in queue = {1: 2, 2: 1}\r\n",
      "Total People in frame = 5\r\n",
      "Number of people in queue = {1: 2, 2: 1}\r\n",
      "Total People in frame = 5\r\n",
      "Number of people in queue = {1: 2, 2: 1}\r\n",
      "Total People in frame = 5\r\n",
      "Number of people in queue = {1: 2, 2: 1}\r\n",
      "Total People in frame = 4\r\n",
      "Number of people in queue = {1: 1, 2: 1}\r\n",
      "Total People in frame = 5\r\n",
      "Number of people in queue = {1: 2, 2: 1}\r\n",
      "Total People in frame = 5\r\n",
      "Number of people in queue = {1: 2, 2: 1}\r\n",
      "Total People in frame = 5\r\n",
      "Number of people in queue = {1: 2, 2: 1}\r\n",
      "Total People in frame = 5\r\n",
      "Number of people in queue = {1: 2, 2: 1}\r\n",
      "Total People in frame = 5\r\n",
      "Number of people in queue = {1: 2, 2: 1}\r\n",
      "Total People in frame = 5\r\n",
      "Number of people in queue = {1: 2, 2: 1}\r\n",
      "Total People in frame = 6\r\n",
      "Number of people in queue = {1: 2, 2: 1}\r\n",
      "Total People in frame = 6\r\n",
      "Number of people in queue = {1: 2, 2: 1}\r\n",
      "Total People in frame = 6\r\n",
      "Number of people in queue = {1: 2, 2: 1}\r\n",
      "Total People in frame = 6\r\n",
      "Number of people in queue = {1: 2, 2: 1}\r\n",
      "Total People in frame = 6\r\n",
      "Number of people in queue = {1: 2, 2: 1}\r\n",
      "Total People in frame = 6\r\n",
      "Number of people in queue = {1: 2, 2: 1}\r\n",
      "Total People in frame = 6\r\n",
      "Number of people in queue = {1: 2, 2: 1}\r\n",
      "Total People in frame = 6\r\n",
      "Number of people in queue = {1: 2, 2: 1}\r\n",
      "Total People in frame = 6\r\n",
      "Number of people in queue = {1: 2, 2: 1}\r\n",
      "Total People in frame = 6\r\n",
      "Number of people in queue = {1: 2, 2: 1}\r\n",
      "Total People in frame = 6\r\n",
      "Number of people in queue = {1: 2, 2: 1}\r\n",
      "Total People in frame = 6\r\n",
      "Number of people in queue = {1: 2, 2: 1}\r\n",
      "Total People in frame = 6\r\n",
      "Number of people in queue = {1: 2, 2: 1}\r\n",
      "Total People in frame = 5\r\n",
      "Number of people in queue = {1: 2, 2: 1}\r\n",
      "Total People in frame = 6\r\n",
      "Number of people in queue = {1: 2, 2: 1}\r\n",
      "Total People in frame = 6\r\n",
      "Number of people in queue = {1: 2, 2: 1}\r\n",
      "Total People in frame = 6\r\n",
      "Number of people in queue = {1: 2, 2: 1}\r\n",
      "Total People in frame = 5\r\n",
      "Number of people in queue = {1: 2, 2: 1}\r\n",
      "Total People in frame = 4\r\n",
      "Number of people in queue = {1: 2, 2: 1}\r\n",
      "Total People in frame = 5\r\n",
      "Number of people in queue = {1: 2, 2: 1}\r\n",
      "Total People in frame = 3\r\n",
      "Number of people in queue = {1: 1, 2: 1}\r\n",
      "Total People in frame = 4\r\n",
      "Number of people in queue = {1: 1, 2: 1}\r\n",
      "Total People in frame = 4\r\n",
      "Number of people in queue = {1: 2, 2: 1}\r\n",
      "Total People in frame = 4\r\n",
      "Number of people in queue = {1: 2, 2: 1}\r\n",
      "Total People in frame = 4\r\n",
      "Number of people in queue = {1: 2, 2: 1}\r\n",
      "Total People in frame = 4\r\n",
      "Number of people in queue = {1: 2, 2: 1}\r\n",
      "Total People in frame = 4\r\n",
      "Number of people in queue = {1: 2, 2: 1}\r\n",
      "Total People in frame = 4\r\n",
      "Number of people in queue = {1: 2, 2: 1}\r\n",
      "Total People in frame = 3\r\n",
      "Number of people in queue = {1: 1, 2: 1}\r\n",
      "Total People in frame = 3\r\n",
      "Number of people in queue = {1: 1, 2: 1}\r\n",
      "Total People in frame = 4\r\n",
      "Number of people in queue = {1: 2, 2: 1}\r\n",
      "Total People in frame = 4\r\n",
      "Number of people in queue = {1: 2, 2: 1}\r\n",
      "Total People in frame = 3\r\n",
      "Number of people in queue = {1: 2, 2: 1}\r\n",
      "Total People in frame = 4\r\n",
      "Number of people in queue = {1: 2, 2: 1}\r\n",
      "Total People in frame = 3\r\n",
      "Number of people in queue = {1: 2, 2: 1}\r\n",
      "Total People in frame = 3\r\n",
      "Number of people in queue = {1: 2, 2: 1}\r\n",
      "Total People in frame = 3\r\n",
      "Number of people in queue = {1: 2, 2: 1}\r\n",
      "Total People in frame = 3\r\n",
      "Number of people in queue = {1: 2, 2: 1}\r\n",
      "Total People in frame = 4\r\n",
      "Number of people in queue = {1: 2, 2: 1}\r\n",
      "Total People in frame = 4\r\n",
      "Number of people in queue = {1: 2, 2: 1}\r\n",
      "Total People in frame = 4\r\n",
      "Number of people in queue = {1: 2, 2: 1}\r\n",
      "Total People in frame = 4\r\n",
      "Number of people in queue = {1: 2, 2: 1}\r\n",
      "Total People in frame = 3\r\n",
      "Number of people in queue = {1: 2, 2: 1}\r\n",
      "Total People in frame = 3\r\n",
      "Number of people in queue = {1: 2, 2: 1}\r\n",
      "Total People in frame = 3\r\n",
      "Number of people in queue = {1: 2, 2: 1}\r\n",
      "Total People in frame = 3\r\n",
      "Number of people in queue = {1: 1, 2: 1}\r\n",
      "Total People in frame = 3\r\n",
      "Number of people in queue = {1: 1, 2: 1}\r\n",
      "Total People in frame = 4\r\n",
      "Number of people in queue = {1: 1, 2: 1}\r\n",
      "Total People in frame = 4\r\n",
      "Number of people in queue = {1: 1, 2: 1}\r\n",
      "Total People in frame = 3\r\n",
      "Number of people in queue = {1: 1, 2: 1}\r\n",
      "Total People in frame = 4\r\n",
      "Number of people in queue = {1: 1, 2: 1}\r\n",
      "Total People in frame = 4\r\n",
      "Number of people in queue = {1: 1, 2: 1}\r\n",
      "Total People in frame = 4\r\n",
      "Number of people in queue = {1: 1, 2: 1}\r\n",
      "Total People in frame = 4\r\n",
      "Number of people in queue = {1: 1, 2: 1}\r\n",
      "Total People in frame = 4\r\n",
      "Number of people in queue = {1: 1, 2: 1}\r\n",
      "Total People in frame = 4\r\n",
      "Number of people in queue = {1: 1, 2: 1}\r\n",
      "Total People in frame = 3\r\n",
      "Number of people in queue = {1: 1, 2: 0}\r\n",
      "Total People in frame = 3\r\n",
      "Number of people in queue = {1: 1, 2: 0}\r\n",
      "Total People in frame = 2\r\n",
      "Number of people in queue = {1: 1, 2: 0}\r\n",
      "Total People in frame = 2\r\n",
      "Number of people in queue = {1: 1, 2: 0}\r\n",
      "Total People in frame = 3\r\n",
      "Number of people in queue = {1: 1, 2: 1}\r\n",
      "Total People in frame = 2\r\n",
      "Number of people in queue = {1: 1, 2: 0}\r\n",
      "Total People in frame = 2\r\n",
      "Number of people in queue = {1: 1, 2: 0}\r\n",
      "Total People in frame = 2\r\n",
      "Number of people in queue = {1: 1, 2: 0}\r\n",
      "Total People in frame = 2\r\n",
      "Number of people in queue = {1: 1, 2: 0}\r\n",
      "Total People in frame = 2\r\n",
      "Number of people in queue = {1: 1, 2: 0}\r\n",
      "Total People in frame = 2\r\n",
      "Number of people in queue = {1: 1, 2: 0}\r\n",
      "Total People in frame = 2\r\n",
      "Number of people in queue = {1: 1, 2: 0}\r\n",
      "Total People in frame = 2\r\n",
      "Number of people in queue = {1: 1, 2: 0}\r\n",
      "Total People in frame = 2\r\n",
      "Number of people in queue = {1: 1, 2: 0}\r\n",
      "Total People in frame = 3\r\n",
      "Number of people in queue = {1: 1, 2: 0}\r\n",
      "Total People in frame = 3\r\n",
      "Number of people in queue = {1: 1, 2: 0}\r\n",
      "Total People in frame = 3\r\n",
      "Number of people in queue = {1: 1, 2: 0}\r\n",
      "Total People in frame = 2\r\n",
      "Number of people in queue = {1: 1, 2: 0}\r\n",
      "Total People in frame = 2\r\n",
      "Number of people in queue = {1: 1, 2: 0}\r\n",
      "Total People in frame = 2\r\n",
      "Number of people in queue = {1: 1, 2: 0}\r\n",
      "Total People in frame = 3\r\n",
      "Number of people in queue = {1: 1, 2: 0}\r\n",
      "Total People in frame = 3\r\n",
      "Number of people in queue = {1: 1, 2: 1}\r\n",
      "Total People in frame = 4\r\n",
      "Number of people in queue = {1: 1, 2: 1}\r\n",
      "Total People in frame = 3\r\n",
      "Number of people in queue = {1: 1, 2: 1}\r\n",
      "Total People in frame = 3\r\n",
      "Number of people in queue = {1: 1, 2: 1}\r\n",
      "Total People in frame = 3\r\n",
      "Number of people in queue = {1: 1, 2: 1}\r\n",
      "Total People in frame = 3\r\n",
      "Number of people in queue = {1: 1, 2: 1}\r\n",
      "Total People in frame = 3\r\n",
      "Number of people in queue = {1: 1, 2: 1}\r\n",
      "Total People in frame = 3\r\n",
      "Number of people in queue = {1: 1, 2: 1}\r\n",
      "Total People in frame = 3\r\n",
      "Number of people in queue = {1: 1, 2: 1}\r\n",
      "Total People in frame = 3\r\n",
      "Number of people in queue = {1: 1, 2: 1}\r\n",
      "Total People in frame = 3\r\n",
      "Number of people in queue = {1: 1, 2: 1}\r\n",
      "Total People in frame = 3\r\n",
      "Number of people in queue = {1: 1, 2: 1}\r\n",
      "Total People in frame = 3\r\n",
      "Number of people in queue = {1: 1, 2: 1}\r\n",
      "Total People in frame = 3\r\n",
      "Number of people in queue = {1: 1, 2: 1}\r\n",
      "Total People in frame = 3\r\n",
      "Number of people in queue = {1: 1, 2: 1}\r\n",
      "Total People in frame = 3\r\n",
      "Number of people in queue = {1: 1, 2: 1}\r\n",
      "Total People in frame = 3\r\n",
      "Number of people in queue = {1: 1, 2: 1}\r\n",
      "Total People in frame = 3\r\n",
      "Number of people in queue = {1: 1, 2: 1}\r\n",
      "Total People in frame = 3\r\n",
      "Number of people in queue = {1: 1, 2: 1}\r\n",
      "Total People in frame = 3\r\n",
      "Number of people in queue = {1: 1, 2: 1}\r\n",
      "Total People in frame = 3\r\n",
      "Number of people in queue = {1: 1, 2: 1}\r\n",
      "Total People in frame = 3\r\n",
      "Number of people in queue = {1: 1, 2: 1}\r\n",
      "Total People in frame = 3\r\n",
      "Number of people in queue = {1: 1, 2: 1}\r\n",
      "Total People in frame = 3\r\n",
      "Number of people in queue = {1: 1, 2: 1}\r\n",
      "Total People in frame = 3\r\n",
      "Number of people in queue = {1: 1, 2: 1}\r\n",
      "Total People in frame = 3\r\n",
      "Number of people in queue = {1: 1, 2: 1}\r\n",
      "Total People in frame = 3\r\n",
      "Number of people in queue = {1: 1, 2: 1}\r\n",
      "Total People in frame = 3\r\n",
      "Number of people in queue = {1: 1, 2: 1}\r\n",
      "Total People in frame = 4\r\n",
      "Number of people in queue = {1: 1, 2: 1}\r\n",
      "Total People in frame = 3\r\n",
      "Number of people in queue = {1: 1, 2: 1}\r\n",
      "Total People in frame = 4\r\n",
      "Number of people in queue = {1: 1, 2: 1}\r\n",
      "Total People in frame = 4\r\n",
      "Number of people in queue = {1: 1, 2: 1}\r\n",
      "Total People in frame = 4\r\n",
      "Number of people in queue = {1: 1, 2: 1}\r\n",
      "Total People in frame = 4\r\n",
      "Number of people in queue = {1: 1, 2: 1}\r\n",
      "Total People in frame = 3\r\n",
      "Number of people in queue = {1: 1, 2: 1}\r\n",
      "Total People in frame = 3\r\n",
      "Number of people in queue = {1: 1, 2: 1}\r\n",
      "Total People in frame = 3\r\n",
      "Number of people in queue = {1: 1, 2: 1}\r\n",
      "Total People in frame = 3\r\n",
      "Number of people in queue = {1: 1, 2: 1}\r\n",
      "Total People in frame = 3\r\n",
      "Number of people in queue = {1: 1, 2: 1}\r\n",
      "Total People in frame = 3\r\n",
      "Number of people in queue = {1: 1, 2: 1}\r\n",
      "Total People in frame = 3\r\n",
      "Number of people in queue = {1: 1, 2: 1}\r\n",
      "Total People in frame = 4\r\n",
      "Number of people in queue = {1: 1, 2: 1}\r\n",
      "Total People in frame = 3\r\n",
      "Number of people in queue = {1: 1, 2: 1}\r\n",
      "Total People in frame = 4\r\n",
      "Number of people in queue = {1: 1, 2: 1}\r\n",
      "Total People in frame = 4\r\n",
      "Number of people in queue = {1: 1, 2: 1}\r\n",
      "Total People in frame = 4\r\n",
      "Number of people in queue = {1: 1, 2: 1}\r\n",
      "Total People in frame = 4\r\n",
      "Number of people in queue = {1: 1, 2: 1}\r\n",
      "Total People in frame = 3\r\n",
      "Number of people in queue = {1: 1, 2: 1}\r\n",
      "Total People in frame = 2\r\n",
      "Number of people in queue = {1: 1, 2: 1}\r\n",
      "Total People in frame = 3\r\n",
      "Number of people in queue = {1: 1, 2: 1}\r\n",
      "Total People in frame = 2\r\n",
      "Number of people in queue = {1: 1, 2: 0}\r\n",
      "Total People in frame = 2\r\n",
      "Number of people in queue = {1: 1, 2: 0}\r\n",
      "Total People in frame = 2\r\n",
      "Number of people in queue = {1: 1, 2: 0}\r\n",
      "Total People in frame = 2\r\n",
      "Number of people in queue = {1: 1, 2: 0}\r\n",
      "Total People in frame = 2\r\n",
      "Number of people in queue = {1: 1, 2: 0}\r\n",
      "Total People in frame = 0\r\n",
      "Number of people in queue = {1: 0, 2: 0}\r\n",
      "Total time taken to run inference is = 4.0 seconds FPS = 41.5\r\n",
      "results/\r\n",
      "results/retail/\r\n",
      "results/retail/gpu/\r\n",
      "results/retail/gpu/stats.txt\r\n",
      "results/retail/gpu/output_video.mp4\r\n",
      "stderr.log\r\n"
     ]
    }
   ],
   "source": [
    "!cat stdout.log"
   ]
  },
  {
   "cell_type": "markdown",
   "metadata": {},
   "source": [
    "#### View stderr.log\n",
    "This can be used for debugging"
   ]
  },
  {
   "cell_type": "code",
   "execution_count": 18,
   "metadata": {},
   "outputs": [
    {
     "name": "stdout",
     "output_type": "stream",
     "text": [
      "person_detect.py:48: DeprecationWarning: Reading network using constructor is deprecated. Please, use IECore.read_network() method instead\r\n",
      "  self.model=IENetwork(self.model_structure, self.model_weights)\r\n"
     ]
    }
   ],
   "source": [
    "!cat stderr.log"
   ]
  },
  {
   "cell_type": "markdown",
   "metadata": {},
   "source": [
    "#### View Output Video\n",
    "Run the cell below to view the output video. If inference was successfully run, you should see a video with bounding boxes drawn around each person detected."
   ]
  },
  {
   "cell_type": "code",
   "execution_count": 19,
   "metadata": {},
   "outputs": [
    {
     "data": {
      "text/html": [
       "<h5>Retail GPU</h5>\n",
       "        <video alt=\"\" controls autoplay muted height=\"480\"><source src=\"results/retail/gpu/output_video.mp4\" type=\"video/mp4\" /></video>\n",
       "        "
      ],
      "text/plain": [
       "<IPython.core.display.HTML object>"
      ]
     },
     "execution_count": 19,
     "metadata": {},
     "output_type": "execute_result"
    }
   ],
   "source": [
    "import videoHtml\n",
    "\n",
    "videoHtml.videoHTML('Retail GPU', ['results/retail/gpu/output_video.mp4'])"
   ]
  },
  {
   "cell_type": "markdown",
   "metadata": {},
   "source": [
    "## Step 1.3: Submit to an Edge Compute Node with an Intel® Neural Compute Stick 2\n",
    "In the cell below, write a script to submit a job to an <a \n",
    "    href=\"https://software.intel.com/en-us/iot/hardware/iei-tank-dev-kit-core\">IEI \n",
    "    Tank 870-Q170</a> edge node with an <a href=\"https://ark.intel.com/products/88186/Intel-Core-i5-6500TE-Processor-6M-Cache-up-to-3-30-GHz-\">Intel Core i5-6500te CPU</a>. The inference workload should run on an <a \n",
    "    href=\"https://software.intel.com/en-us/neural-compute-stick\">Intel Neural Compute Stick 2</a> installed in this  node."
   ]
  },
  {
   "cell_type": "code",
   "execution_count": 20,
   "metadata": {},
   "outputs": [
    {
     "data": {
      "text/plain": [
       "'/data/models/intel/person-detection-retail-0013/FP16/person-detection-retail-0013 MYRIAD /data/resources/retail.mp4 /data/queue_param/retail.npy /output/results/retail/vpu 5'"
      ]
     },
     "execution_count": 20,
     "metadata": {},
     "output_type": "execute_result"
    }
   ],
   "source": [
    "vpu = f_flag('FP16', 'MYRIAD', 'vpu')\n",
    "vpu"
   ]
  },
  {
   "cell_type": "code",
   "execution_count": 21,
   "metadata": {},
   "outputs": [
    {
     "name": "stdout",
     "output_type": "stream",
     "text": [
      "6W5HH9tXg2XSpwcCZSqqunrEyxwOGNrd\n"
     ]
    }
   ],
   "source": [
    "#Submit job to the queue\n",
    "vpu_job_id = !qsub queue_job.sh -d . -l nodes=1:tank-870:i5-6500te:intel-ncs2 -F '{vpu}'\n",
    "\n",
    "print(vpu_job_id[0])"
   ]
  },
  {
   "cell_type": "markdown",
   "metadata": {},
   "source": [
    "### Check Job Status\n",
    "\n",
    "To check on the job that was submitted, use `liveQStat` to check the status of the job.\n",
    "\n",
    "Column `S` shows the state of your running jobs.\n",
    "\n",
    "For example:\n",
    "- If `JOB ID`is in Q state, it is in the queue waiting for available resources.\n",
    "- If `JOB ID` is in R state, it is running."
   ]
  },
  {
   "cell_type": "code",
   "execution_count": 22,
   "metadata": {},
   "outputs": [],
   "source": [
    "import liveQStat\n",
    "liveQStat.liveQStat()"
   ]
  },
  {
   "cell_type": "markdown",
   "metadata": {},
   "source": [
    "#### Get Results\n",
    "\n",
    "Run the next cell to retrieve your job's results."
   ]
  },
  {
   "cell_type": "code",
   "execution_count": 23,
   "metadata": {},
   "outputs": [
    {
     "name": "stdout",
     "output_type": "stream",
     "text": [
      "getResults() is blocking until results of the job (id:6W5HH9tXg2XSpwcCZSqqunrEyxwOGNrd) are ready.\n",
      "Please wait...................................Success!\n",
      "output.tgz was downloaded in the same folder as this notebook.\n"
     ]
    }
   ],
   "source": [
    "import get_results\n",
    "get_results.getResults(vpu_job_id[0], filename='output.tgz', blocking=True)"
   ]
  },
  {
   "cell_type": "markdown",
   "metadata": {},
   "source": [
    "#### Unpack your output files and view stdout.log"
   ]
  },
  {
   "cell_type": "code",
   "execution_count": 24,
   "metadata": {},
   "outputs": [],
   "source": [
    "!tar zxf output.tgz"
   ]
  },
  {
   "cell_type": "code",
   "execution_count": 25,
   "metadata": {},
   "outputs": [
    {
     "name": "stdout",
     "output_type": "stream",
     "text": [
      "\u001b[35mE: [ncAPI] [     35975] [python3] ncDeviceOpen:1003\tFailed to find booted device after boot\u001b[0m\r\n",
      "results/\r\n",
      "results/retail/\r\n",
      "results/retail/vpu/\r\n",
      "stderr.log\r\n"
     ]
    }
   ],
   "source": [
    "!cat stdout.log"
   ]
  },
  {
   "cell_type": "markdown",
   "metadata": {},
   "source": [
    "#### View stderr.log\n",
    "This can be used for debugging"
   ]
  },
  {
   "cell_type": "code",
   "execution_count": 26,
   "metadata": {},
   "outputs": [
    {
     "name": "stdout",
     "output_type": "stream",
     "text": [
      "person_detect.py:48: DeprecationWarning: Reading network using constructor is deprecated. Please, use IECore.read_network() method instead\r\n",
      "  self.model=IENetwork(self.model_structure, self.model_weights)\r\n",
      "Traceback (most recent call last):\r\n",
      "  File \"person_detect.py\", line 199, in <module>\r\n",
      "    main(args)\r\n",
      "  File \"person_detect.py\", line 120, in main\r\n",
      "    pd.load_model()\r\n",
      "  File \"person_detect.py\", line 62, in load_model\r\n",
      "    self.net = core.load_network(self.model, self.device, num_requests=1)\r\n",
      "  File \"ie_api.pyx\", line 178, in openvino.inference_engine.ie_api.IECore.load_network\r\n",
      "  File \"ie_api.pyx\", line 187, in openvino.inference_engine.ie_api.IECore.load_network\r\n",
      "RuntimeError: Can not init Myriad device: NC_ERROR\r\n"
     ]
    }
   ],
   "source": [
    "!cat stderr.log"
   ]
  },
  {
   "cell_type": "markdown",
   "metadata": {},
   "source": [
    "#### View Output Video\n",
    "Run the cell below to view the output video. If inference was successfully run, you should see a video with bounding boxes drawn around each person detected."
   ]
  },
  {
   "cell_type": "code",
   "execution_count": 27,
   "metadata": {},
   "outputs": [
    {
     "data": {
      "text/html": [
       "<h5>Retail VPU</h5>\n",
       "        <video alt=\"\" controls autoplay muted height=\"480\"><source src=\"results/retail/vpu/output_video.mp4\" type=\"video/mp4\" /></video>\n",
       "        "
      ],
      "text/plain": [
       "<IPython.core.display.HTML object>"
      ]
     },
     "execution_count": 27,
     "metadata": {},
     "output_type": "execute_result"
    }
   ],
   "source": [
    "import videoHtml\n",
    "\n",
    "videoHtml.videoHTML('Retail VPU', ['results/retail/vpu/output_video.mp4'])"
   ]
  },
  {
   "cell_type": "markdown",
   "metadata": {},
   "source": [
    "## Step 1.4: Submit to an Edge Compute Node with IEI Mustang-F100-A10\n",
    "In the cell below, write a script to submit a job to an <a \n",
    "    href=\"https://software.intel.com/en-us/iot/hardware/iei-tank-dev-kit-core\">IEI \n",
    "    Tank 870-Q170</a> edge node with an <a href=\"https://ark.intel.com/products/88186/Intel-Core-i5-6500TE-Processor-6M-Cache-up-to-3-30-GHz-\">Intel Core™ i5-6500te CPU</a> . The inference workload will run on the <a href=\"https://www.ieiworld.com/mustang-f100/en/\"> IEI Mustang-F100-A10 </a> FPGA card installed in this node."
   ]
  },
  {
   "cell_type": "code",
   "execution_count": 28,
   "metadata": {},
   "outputs": [
    {
     "data": {
      "text/plain": [
       "'/data/models/intel/person-detection-retail-0013/FP16/person-detection-retail-0013 HETERO:FPGA,CPU /data/resources/retail.mp4 /data/queue_param/retail.npy /output/results/retail/fpga 5'"
      ]
     },
     "execution_count": 28,
     "metadata": {},
     "output_type": "execute_result"
    }
   ],
   "source": [
    "fpga = f_flag('FP16', 'HETERO:FPGA,CPU', 'fpga')\n",
    "fpga"
   ]
  },
  {
   "cell_type": "code",
   "execution_count": 29,
   "metadata": {},
   "outputs": [
    {
     "name": "stdout",
     "output_type": "stream",
     "text": [
      "GiTX0B17fr65XoPO9WCbWJykZO9NVapb\n"
     ]
    }
   ],
   "source": [
    "#Submit job to the queue\n",
    "fpga_job_id = !qsub queue_job.sh -d . -l nodes=1:tank-870:i5-6500te:iei-mustang-f100-a10 -F '{fpga}'\n",
    "\n",
    "print(fpga_job_id[0])"
   ]
  },
  {
   "cell_type": "markdown",
   "metadata": {},
   "source": [
    "### Check Job Status\n",
    "\n",
    "To check on the job that was submitted, use `liveQStat` to check the status of the job.\n",
    "\n",
    "Column `S` shows the state of your running jobs.\n",
    "\n",
    "For example:\n",
    "- If `JOB ID`is in Q state, it is in the queue waiting for available resources.\n",
    "- If `JOB ID` is in R state, it is running."
   ]
  },
  {
   "cell_type": "code",
   "execution_count": 30,
   "metadata": {},
   "outputs": [],
   "source": [
    "import liveQStat\n",
    "liveQStat.liveQStat()"
   ]
  },
  {
   "cell_type": "markdown",
   "metadata": {},
   "source": [
    "#### Get Results\n",
    "\n",
    "Run the next cell to retrieve your job's results."
   ]
  },
  {
   "cell_type": "code",
   "execution_count": 31,
   "metadata": {},
   "outputs": [
    {
     "name": "stdout",
     "output_type": "stream",
     "text": [
      "getResults() is blocking until results of the job (id:GiTX0B17fr65XoPO9WCbWJykZO9NVapb) are ready.\n",
      "Please wait.....................................Success!\n",
      "output.tgz was downloaded in the same folder as this notebook.\n"
     ]
    }
   ],
   "source": [
    "import get_results\n",
    "get_results.getResults(fpga_job_id[0], filename='output.tgz', blocking=True)"
   ]
  },
  {
   "cell_type": "markdown",
   "metadata": {},
   "source": [
    "#### Unpack your output files and view stdout.log"
   ]
  },
  {
   "cell_type": "code",
   "execution_count": 32,
   "metadata": {},
   "outputs": [],
   "source": [
    "!tar zxf output.tgz"
   ]
  },
  {
   "cell_type": "code",
   "execution_count": 33,
   "metadata": {},
   "outputs": [
    {
     "name": "stdout",
     "output_type": "stream",
     "text": [
      "INTELFPGAOCLSDKROOT is not set\r\n",
      "Using script's current directory (/opt/altera/aocl-pro-rte/aclrte-linux64)\r\n",
      "\r\n",
      "aoc was not found, but aocl was found. Assuming only RTE is installed.\r\n",
      "\r\n",
      "AOCL_BOARD_PACKAGE_ROOT is set to /opt/intel/openvino/bitstreams/a10_vision_design_sg2_bitstreams/BSP/a10_1150_sg2. Using that.\r\n",
      "Adding /opt/altera/aocl-pro-rte/aclrte-linux64/bin to PATH\r\n",
      "Adding /opt/altera/aocl-pro-rte/aclrte-linux64/linux64/lib to LD_LIBRARY_PATH\r\n",
      "Adding /opt/altera/aocl-pro-rte/aclrte-linux64/host/linux64/lib to LD_LIBRARY_PATH\r\n",
      "Adding /opt/intel/openvino/bitstreams/a10_vision_design_sg2_bitstreams/BSP/a10_1150_sg2/linux64/lib to LD_LIBRARY_PATH\r\n",
      "aocl program: Running program from /opt/intel/openvino/bitstreams/a10_vision_design_sg2_bitstreams/BSP/a10_1150_sg2/linux64/libexec\r\n",
      "Programming device: a10gx_2ddr : Intel Vision Accelerator Design with Intel Arria 10 FPGA (acla10_1150_sg20)\r\n",
      "Program succeed. \r\n",
      "Time taken to load model = 28.803512573242188 seconds\r\n",
      "Total People in frame = 4\r\n",
      "Number of people in queue = {1: 1, 2: 1}\r\n",
      "Total People in frame = 4\r\n",
      "Number of people in queue = {1: 1, 2: 1}\r\n",
      "Total People in frame = 5\r\n",
      "Number of people in queue = {1: 1, 2: 1}\r\n",
      "Total People in frame = 4\r\n",
      "Number of people in queue = {1: 1, 2: 1}\r\n",
      "Total People in frame = 4\r\n",
      "Number of people in queue = {1: 1, 2: 1}\r\n",
      "Total People in frame = 4\r\n",
      "Number of people in queue = {1: 1, 2: 1}\r\n",
      "Total People in frame = 4\r\n",
      "Number of people in queue = {1: 1, 2: 1}\r\n",
      "Total People in frame = 4\r\n",
      "Number of people in queue = {1: 1, 2: 1}\r\n",
      "Total People in frame = 4\r\n",
      "Number of people in queue = {1: 1, 2: 1}\r\n",
      "Total People in frame = 4\r\n",
      "Number of people in queue = {1: 1, 2: 1}\r\n",
      "Total People in frame = 4\r\n",
      "Number of people in queue = {1: 1, 2: 1}\r\n",
      "Total People in frame = 4\r\n",
      "Number of people in queue = {1: 1, 2: 1}\r\n",
      "Total People in frame = 4\r\n",
      "Number of people in queue = {1: 1, 2: 1}\r\n",
      "Total People in frame = 3\r\n",
      "Number of people in queue = {1: 1, 2: 1}\r\n",
      "Total People in frame = 3\r\n",
      "Number of people in queue = {1: 1, 2: 1}\r\n",
      "Total People in frame = 3\r\n",
      "Number of people in queue = {1: 1, 2: 1}\r\n",
      "Total People in frame = 3\r\n",
      "Number of people in queue = {1: 1, 2: 1}\r\n",
      "Total People in frame = 3\r\n",
      "Number of people in queue = {1: 1, 2: 1}\r\n",
      "Total People in frame = 3\r\n",
      "Number of people in queue = {1: 1, 2: 1}\r\n",
      "Total People in frame = 4\r\n",
      "Number of people in queue = {1: 1, 2: 1}\r\n",
      "Total People in frame = 4\r\n",
      "Number of people in queue = {1: 1, 2: 1}\r\n",
      "Total People in frame = 4\r\n",
      "Number of people in queue = {1: 2, 2: 1}\r\n",
      "Total People in frame = 5\r\n",
      "Number of people in queue = {1: 2, 2: 1}\r\n",
      "Total People in frame = 5\r\n",
      "Number of people in queue = {1: 2, 2: 1}\r\n",
      "Total People in frame = 5\r\n",
      "Number of people in queue = {1: 2, 2: 1}\r\n",
      "Total People in frame = 5\r\n",
      "Number of people in queue = {1: 2, 2: 1}\r\n",
      "Total People in frame = 4\r\n",
      "Number of people in queue = {1: 1, 2: 1}\r\n",
      "Total People in frame = 5\r\n",
      "Number of people in queue = {1: 2, 2: 1}\r\n",
      "Total People in frame = 5\r\n",
      "Number of people in queue = {1: 2, 2: 1}\r\n",
      "Total People in frame = 5\r\n",
      "Number of people in queue = {1: 2, 2: 1}\r\n",
      "Total People in frame = 5\r\n",
      "Number of people in queue = {1: 2, 2: 1}\r\n",
      "Total People in frame = 5\r\n",
      "Number of people in queue = {1: 2, 2: 1}\r\n",
      "Total People in frame = 5\r\n",
      "Number of people in queue = {1: 2, 2: 1}\r\n",
      "Total People in frame = 5\r\n",
      "Number of people in queue = {1: 2, 2: 1}\r\n",
      "Total People in frame = 5\r\n",
      "Number of people in queue = {1: 2, 2: 1}\r\n",
      "Total People in frame = 6\r\n",
      "Number of people in queue = {1: 2, 2: 1}\r\n",
      "Total People in frame = 5\r\n",
      "Number of people in queue = {1: 2, 2: 1}\r\n",
      "Total People in frame = 6\r\n",
      "Number of people in queue = {1: 2, 2: 1}\r\n",
      "Total People in frame = 6\r\n",
      "Number of people in queue = {1: 2, 2: 1}\r\n",
      "Total People in frame = 6\r\n",
      "Number of people in queue = {1: 2, 2: 1}\r\n",
      "Total People in frame = 6\r\n",
      "Number of people in queue = {1: 2, 2: 1}\r\n",
      "Total People in frame = 6\r\n",
      "Number of people in queue = {1: 2, 2: 1}\r\n",
      "Total People in frame = 6\r\n",
      "Number of people in queue = {1: 2, 2: 1}\r\n",
      "Total People in frame = 6\r\n",
      "Number of people in queue = {1: 2, 2: 1}\r\n",
      "Total People in frame = 6\r\n",
      "Number of people in queue = {1: 2, 2: 1}\r\n",
      "Total People in frame = 5\r\n",
      "Number of people in queue = {1: 2, 2: 1}\r\n",
      "Total People in frame = 5\r\n",
      "Number of people in queue = {1: 2, 2: 1}\r\n",
      "Total People in frame = 6\r\n",
      "Number of people in queue = {1: 2, 2: 1}\r\n",
      "Total People in frame = 6\r\n",
      "Number of people in queue = {1: 2, 2: 1}\r\n",
      "Total People in frame = 6\r\n",
      "Number of people in queue = {1: 2, 2: 1}\r\n",
      "Total People in frame = 5\r\n",
      "Number of people in queue = {1: 2, 2: 1}\r\n",
      "Total People in frame = 4\r\n",
      "Number of people in queue = {1: 2, 2: 1}\r\n",
      "Total People in frame = 4\r\n",
      "Number of people in queue = {1: 2, 2: 1}\r\n",
      "Total People in frame = 3\r\n",
      "Number of people in queue = {1: 1, 2: 1}\r\n",
      "Total People in frame = 3\r\n",
      "Number of people in queue = {1: 1, 2: 1}\r\n",
      "Total People in frame = 4\r\n",
      "Number of people in queue = {1: 2, 2: 1}\r\n",
      "Total People in frame = 4\r\n",
      "Number of people in queue = {1: 2, 2: 1}\r\n",
      "Total People in frame = 4\r\n",
      "Number of people in queue = {1: 2, 2: 1}\r\n",
      "Total People in frame = 4\r\n",
      "Number of people in queue = {1: 2, 2: 1}\r\n",
      "Total People in frame = 4\r\n",
      "Number of people in queue = {1: 2, 2: 1}\r\n",
      "Total People in frame = 4\r\n",
      "Number of people in queue = {1: 2, 2: 1}\r\n",
      "Total People in frame = 2\r\n",
      "Number of people in queue = {1: 1, 2: 1}\r\n",
      "Total People in frame = 3\r\n",
      "Number of people in queue = {1: 1, 2: 1}\r\n",
      "Total People in frame = 4\r\n",
      "Number of people in queue = {1: 2, 2: 1}\r\n",
      "Total People in frame = 3\r\n",
      "Number of people in queue = {1: 2, 2: 1}\r\n",
      "Total People in frame = 3\r\n",
      "Number of people in queue = {1: 2, 2: 1}\r\n",
      "Total People in frame = 3\r\n",
      "Number of people in queue = {1: 2, 2: 1}\r\n",
      "Total People in frame = 3\r\n",
      "Number of people in queue = {1: 2, 2: 1}\r\n",
      "Total People in frame = 3\r\n",
      "Number of people in queue = {1: 2, 2: 1}\r\n",
      "Total People in frame = 3\r\n",
      "Number of people in queue = {1: 2, 2: 1}\r\n",
      "Total People in frame = 3\r\n",
      "Number of people in queue = {1: 2, 2: 1}\r\n",
      "Total People in frame = 3\r\n",
      "Number of people in queue = {1: 2, 2: 1}\r\n",
      "Total People in frame = 4\r\n",
      "Number of people in queue = {1: 2, 2: 1}\r\n",
      "Total People in frame = 4\r\n",
      "Number of people in queue = {1: 2, 2: 1}\r\n",
      "Total People in frame = 4\r\n",
      "Number of people in queue = {1: 2, 2: 1}\r\n",
      "Total People in frame = 3\r\n",
      "Number of people in queue = {1: 2, 2: 1}\r\n",
      "Total People in frame = 3\r\n",
      "Number of people in queue = {1: 2, 2: 1}\r\n",
      "Total People in frame = 3\r\n",
      "Number of people in queue = {1: 2, 2: 1}\r\n",
      "Total People in frame = 3\r\n",
      "Number of people in queue = {1: 1, 2: 1}\r\n",
      "Total People in frame = 3\r\n",
      "Number of people in queue = {1: 1, 2: 1}\r\n",
      "Total People in frame = 4\r\n",
      "Number of people in queue = {1: 1, 2: 1}\r\n",
      "Total People in frame = 4\r\n",
      "Number of people in queue = {1: 1, 2: 1}\r\n",
      "Total People in frame = 3\r\n",
      "Number of people in queue = {1: 1, 2: 1}\r\n",
      "Total People in frame = 4\r\n",
      "Number of people in queue = {1: 1, 2: 1}\r\n",
      "Total People in frame = 4\r\n",
      "Number of people in queue = {1: 1, 2: 1}\r\n",
      "Total People in frame = 4\r\n",
      "Number of people in queue = {1: 1, 2: 1}\r\n",
      "Total People in frame = 4\r\n",
      "Number of people in queue = {1: 1, 2: 1}\r\n",
      "Total People in frame = 4\r\n",
      "Number of people in queue = {1: 1, 2: 1}\r\n",
      "Total People in frame = 4\r\n",
      "Number of people in queue = {1: 1, 2: 1}\r\n",
      "Total People in frame = 3\r\n",
      "Number of people in queue = {1: 1, 2: 0}\r\n",
      "Total People in frame = 3\r\n",
      "Number of people in queue = {1: 1, 2: 0}\r\n",
      "Total People in frame = 2\r\n",
      "Number of people in queue = {1: 1, 2: 0}\r\n",
      "Total People in frame = 2\r\n",
      "Number of people in queue = {1: 1, 2: 0}\r\n",
      "Total People in frame = 3\r\n",
      "Number of people in queue = {1: 1, 2: 1}\r\n",
      "Total People in frame = 2\r\n",
      "Number of people in queue = {1: 1, 2: 0}\r\n",
      "Total People in frame = 2\r\n",
      "Number of people in queue = {1: 1, 2: 0}\r\n",
      "Total People in frame = 2\r\n",
      "Number of people in queue = {1: 1, 2: 0}\r\n",
      "Total People in frame = 2\r\n",
      "Number of people in queue = {1: 1, 2: 0}\r\n",
      "Total People in frame = 2\r\n",
      "Number of people in queue = {1: 1, 2: 0}\r\n",
      "Total People in frame = 2\r\n",
      "Number of people in queue = {1: 1, 2: 0}\r\n",
      "Total People in frame = 2\r\n",
      "Number of people in queue = {1: 1, 2: 0}\r\n",
      "Total People in frame = 2\r\n",
      "Number of people in queue = {1: 1, 2: 0}\r\n",
      "Total People in frame = 2\r\n",
      "Number of people in queue = {1: 1, 2: 0}\r\n",
      "Total People in frame = 2\r\n",
      "Number of people in queue = {1: 1, 2: 0}\r\n",
      "Total People in frame = 3\r\n",
      "Number of people in queue = {1: 1, 2: 0}\r\n",
      "Total People in frame = 3\r\n",
      "Number of people in queue = {1: 1, 2: 0}\r\n",
      "Total People in frame = 2\r\n",
      "Number of people in queue = {1: 1, 2: 0}\r\n",
      "Total People in frame = 2\r\n",
      "Number of people in queue = {1: 1, 2: 0}\r\n",
      "Total People in frame = 2\r\n",
      "Number of people in queue = {1: 1, 2: 0}\r\n",
      "Total People in frame = 3\r\n",
      "Number of people in queue = {1: 1, 2: 0}\r\n",
      "Total People in frame = 3\r\n",
      "Number of people in queue = {1: 1, 2: 1}\r\n",
      "Total People in frame = 4\r\n",
      "Number of people in queue = {1: 1, 2: 1}\r\n",
      "Total People in frame = 3\r\n",
      "Number of people in queue = {1: 1, 2: 1}\r\n",
      "Total People in frame = 3\r\n",
      "Number of people in queue = {1: 1, 2: 1}\r\n",
      "Total People in frame = 3\r\n",
      "Number of people in queue = {1: 1, 2: 1}\r\n",
      "Total People in frame = 3\r\n",
      "Number of people in queue = {1: 1, 2: 1}\r\n",
      "Total People in frame = 3\r\n",
      "Number of people in queue = {1: 1, 2: 1}\r\n",
      "Total People in frame = 3\r\n",
      "Number of people in queue = {1: 1, 2: 1}\r\n",
      "Total People in frame = 3\r\n",
      "Number of people in queue = {1: 1, 2: 1}\r\n",
      "Total People in frame = 3\r\n",
      "Number of people in queue = {1: 1, 2: 1}\r\n",
      "Total People in frame = 3\r\n",
      "Number of people in queue = {1: 1, 2: 1}\r\n",
      "Total People in frame = 3\r\n",
      "Number of people in queue = {1: 1, 2: 1}\r\n",
      "Total People in frame = 3\r\n",
      "Number of people in queue = {1: 1, 2: 1}\r\n",
      "Total People in frame = 3\r\n",
      "Number of people in queue = {1: 1, 2: 1}\r\n",
      "Total People in frame = 3\r\n",
      "Number of people in queue = {1: 1, 2: 1}\r\n",
      "Total People in frame = 3\r\n",
      "Number of people in queue = {1: 1, 2: 1}\r\n",
      "Total People in frame = 3\r\n",
      "Number of people in queue = {1: 1, 2: 1}\r\n",
      "Total People in frame = 3\r\n",
      "Number of people in queue = {1: 1, 2: 1}\r\n",
      "Total People in frame = 3\r\n",
      "Number of people in queue = {1: 1, 2: 1}\r\n",
      "Total People in frame = 3\r\n",
      "Number of people in queue = {1: 1, 2: 1}\r\n",
      "Total People in frame = 3\r\n",
      "Number of people in queue = {1: 1, 2: 1}\r\n",
      "Total People in frame = 3\r\n",
      "Number of people in queue = {1: 1, 2: 1}\r\n",
      "Total People in frame = 3\r\n",
      "Number of people in queue = {1: 1, 2: 1}\r\n",
      "Total People in frame = 3\r\n",
      "Number of people in queue = {1: 1, 2: 1}\r\n",
      "Total People in frame = 3\r\n",
      "Number of people in queue = {1: 1, 2: 1}\r\n",
      "Total People in frame = 3\r\n",
      "Number of people in queue = {1: 1, 2: 1}\r\n",
      "Total People in frame = 3\r\n",
      "Number of people in queue = {1: 1, 2: 1}\r\n",
      "Total People in frame = 3\r\n",
      "Number of people in queue = {1: 1, 2: 1}\r\n",
      "Total People in frame = 4\r\n",
      "Number of people in queue = {1: 1, 2: 1}\r\n",
      "Total People in frame = 3\r\n",
      "Number of people in queue = {1: 1, 2: 1}\r\n",
      "Total People in frame = 4\r\n",
      "Number of people in queue = {1: 1, 2: 1}\r\n",
      "Total People in frame = 4\r\n",
      "Number of people in queue = {1: 1, 2: 1}\r\n",
      "Total People in frame = 4\r\n",
      "Number of people in queue = {1: 1, 2: 1}\r\n",
      "Total People in frame = 4\r\n",
      "Number of people in queue = {1: 1, 2: 1}\r\n",
      "Total People in frame = 3\r\n",
      "Number of people in queue = {1: 1, 2: 1}\r\n",
      "Total People in frame = 3\r\n",
      "Number of people in queue = {1: 1, 2: 1}\r\n",
      "Total People in frame = 3\r\n",
      "Number of people in queue = {1: 1, 2: 1}\r\n",
      "Total People in frame = 3\r\n",
      "Number of people in queue = {1: 1, 2: 1}\r\n",
      "Total People in frame = 3\r\n",
      "Number of people in queue = {1: 1, 2: 1}\r\n",
      "Total People in frame = 3\r\n",
      "Number of people in queue = {1: 1, 2: 1}\r\n",
      "Total People in frame = 3\r\n",
      "Number of people in queue = {1: 1, 2: 1}\r\n",
      "Total People in frame = 4\r\n",
      "Number of people in queue = {1: 1, 2: 1}\r\n",
      "Total People in frame = 3\r\n",
      "Number of people in queue = {1: 1, 2: 1}\r\n",
      "Total People in frame = 4\r\n",
      "Number of people in queue = {1: 1, 2: 1}\r\n",
      "Total People in frame = 4\r\n",
      "Number of people in queue = {1: 1, 2: 1}\r\n",
      "Total People in frame = 4\r\n",
      "Number of people in queue = {1: 1, 2: 1}\r\n",
      "Total People in frame = 4\r\n",
      "Number of people in queue = {1: 1, 2: 1}\r\n",
      "Total People in frame = 3\r\n",
      "Number of people in queue = {1: 1, 2: 1}\r\n",
      "Total People in frame = 2\r\n",
      "Number of people in queue = {1: 1, 2: 1}\r\n",
      "Total People in frame = 3\r\n",
      "Number of people in queue = {1: 1, 2: 1}\r\n",
      "Total People in frame = 2\r\n",
      "Number of people in queue = {1: 1, 2: 0}\r\n",
      "Total People in frame = 2\r\n",
      "Number of people in queue = {1: 1, 2: 0}\r\n",
      "Total People in frame = 2\r\n",
      "Number of people in queue = {1: 1, 2: 0}\r\n",
      "Total People in frame = 2\r\n",
      "Number of people in queue = {1: 1, 2: 0}\r\n",
      "Total People in frame = 2\r\n",
      "Number of people in queue = {1: 1, 2: 0}\r\n",
      "Total People in frame = 0\r\n",
      "Number of people in queue = {1: 0, 2: 0}\r\n",
      "Total time taken to run inference is = 3.4 seconds FPS = 48.82352941176471\r\n",
      "results/\r\n",
      "results/retail/\r\n",
      "results/retail/fpga/\r\n",
      "results/retail/fpga/stats.txt\r\n",
      "results/retail/fpga/output_video.mp4\r\n",
      "stderr.log\r\n"
     ]
    }
   ],
   "source": [
    "!cat stdout.log"
   ]
  },
  {
   "cell_type": "markdown",
   "metadata": {},
   "source": [
    "#### View stderr.log\n",
    "This can be used for debugging"
   ]
  },
  {
   "cell_type": "code",
   "execution_count": 34,
   "metadata": {},
   "outputs": [
    {
     "name": "stdout",
     "output_type": "stream",
     "text": [
      "person_detect.py:48: DeprecationWarning: Reading network using constructor is deprecated. Please, use IECore.read_network() method instead\r\n",
      "  self.model=IENetwork(self.model_structure, self.model_weights)\r\n"
     ]
    }
   ],
   "source": [
    "!cat stderr.log"
   ]
  },
  {
   "cell_type": "markdown",
   "metadata": {},
   "source": [
    "#### View Output Video\n",
    "Run the cell below to view the output video. If inference was successfully run, you should see a video with bounding boxes drawn around each person detected."
   ]
  },
  {
   "cell_type": "code",
   "execution_count": 35,
   "metadata": {},
   "outputs": [
    {
     "data": {
      "text/html": [
       "<h5>Retail FPGA</h5>\n",
       "        <video alt=\"\" controls autoplay muted height=\"480\"><source src=\"results/retail/fpga/output_video.mp4\" type=\"video/mp4\" /></video>\n",
       "        "
      ],
      "text/plain": [
       "<IPython.core.display.HTML object>"
      ]
     },
     "execution_count": 35,
     "metadata": {},
     "output_type": "execute_result"
    }
   ],
   "source": [
    "import videoHtml\n",
    "\n",
    "videoHtml.videoHTML('Retail FPGA', ['results/retail/fpga/output_video.mp4'])"
   ]
  },
  {
   "cell_type": "markdown",
   "metadata": {},
   "source": [
    "***Wait!***\n",
    "\n",
    "Please wait for all the inference jobs and video rendering to complete before proceeding to the next step.\n",
    "\n",
    "## Step 2: Assess Performance\n",
    "\n",
    "Run the cells below to compare the performance across all 4 devices. The following timings for the model are being comapred across all 4 devices:\n",
    "\n",
    "- Model Loading Time\n",
    "- Average Inference Time\n",
    "- FPS"
   ]
  },
  {
   "cell_type": "code",
   "execution_count": 36,
   "metadata": {},
   "outputs": [],
   "source": [
    "import matplotlib.pyplot as plt\n",
    "\n",
    "device_list=['cpu', 'gpu', 'fpga', 'vpu']\n",
    "inference_time=[]\n",
    "fps=[]\n",
    "model_load_time=[]\n",
    "\n",
    "for device in device_list:\n",
    "    with open('results/retail/'+device+'/stats.txt', 'r') as f:\n",
    "        inference_time.append(float(f.readline().split(\"\\n\")[0]))\n",
    "        fps.append(float(f.readline().split(\"\\n\")[0]))\n",
    "        model_load_time.append(float(f.readline().split(\"\\n\")[0]))"
   ]
  },
  {
   "cell_type": "code",
   "execution_count": 37,
   "metadata": {},
   "outputs": [
    {
     "data": {
      "image/png": "[encoded data removed]",
      "text/plain": [
       "<matplotlib.figure.Figure at 0x7fdcfffe3320>"
      ]
     },
     "metadata": {
      "needs_background": "light"
     },
     "output_type": "display_data"
    }
   ],
   "source": [
    "plt.bar(device_list, inference_time)\n",
    "plt.xlabel(\"Device Used\")\n",
    "plt.ylabel(\"Total Inference Time in Seconds\")\n",
    "plt.show()"
   ]
  },
  {
   "cell_type": "code",
   "execution_count": 38,
   "metadata": {},
   "outputs": [
    {
     "data": {
      "image/png": "[encoded data removed]",
      "text/plain": [
       "<matplotlib.figure.Figure at 0x7fdcf4ff40f0>"
      ]
     },
     "metadata": {
      "needs_background": "light"
     },
     "output_type": "display_data"
    }
   ],
   "source": [
    "plt.bar(device_list, fps)\n",
    "plt.xlabel(\"Device Used\")\n",
    "plt.ylabel(\"Frames per Second\")\n",
    "plt.show()"
   ]
  },
  {
   "cell_type": "code",
   "execution_count": 39,
   "metadata": {},
   "outputs": [
    {
     "data": {
      "image/png": "[encoded data removed]",
      "text/plain": [
       "<matplotlib.figure.Figure at 0x7fdcf2f15780>"
      ]
     },
     "metadata": {
      "needs_background": "light"
     },
     "output_type": "display_data"
    }
   ],
   "source": [
    "plt.bar(device_list, model_load_time)\n",
    "plt.xlabel(\"Device Used\")\n",
    "plt.ylabel(\"Model Loading Time in Seconds\")\n",
    "plt.show()"
   ]
  },
  {
   "cell_type": "markdown",
   "metadata": {},
   "source": [
    "# Step 3: Update Proposal Document\n",
    "\n",
    "Now that you've completed your hardware testing, you should go back to the proposal document and validate or update your originally proposed hardware. Once you've updated your proposal, you can move onto the next scenario."
   ]
  }
 ],
 "metadata": {
  "kernelspec": {
   "display_name": "Python 3",
   "language": "python",
   "name": "python3"
  },
  "language_info": {
   "codemirror_mode": {
    "name": "ipython",
    "version": 3
   },
   "file_extension": ".py",
   "mimetype": "text/x-python",
   "name": "python",
   "nbconvert_exporter": "python",
   "pygments_lexer": "ipython3",
   "version": "3.6.3"
  }
 },
 "nbformat": 4,
 "nbformat_minor": 2
}
